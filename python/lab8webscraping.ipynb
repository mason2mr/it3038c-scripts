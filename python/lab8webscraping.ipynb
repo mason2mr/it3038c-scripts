{
 "cells": [
  {
   "cell_type": "code",
   "execution_count": 2,
   "id": "f7f7445e-0114-4346-88dd-a43ae63a6d05",
   "metadata": {},
   "outputs": [],
   "source": [
    "import requests \n",
    "import bs4\n",
    "from bs4 import BeautifulSoup\n"
   ]
  },
  {
   "cell_type": "code",
   "execution_count": 4,
   "id": "da6fb775-6558-444c-9d41-02da38c1f769",
   "metadata": {},
   "outputs": [],
   "source": [
    "url = 'https://economictimes.indiatimes.com/markets/stocks'"
   ]
  },
  {
   "cell_type": "code",
   "execution_count": 5,
   "id": "b0b18fb5-dcf2-4920-a595-7b8d8c921871",
   "metadata": {},
   "outputs": [],
   "source": [
    "headers = {\n",
    "    'User-Agent': \"Mozilla/5.0 (Windows NT 10.0; Win64; x64) AppleWebKit/537.36 (KHTML, like Gecko) Chrome/106.0.0.0 Safari/537.36 Edg/106.0.1370.52\"\n",
    "    \n",
    "    \n",
    "}"
   ]
  },
  {
   "cell_type": "code",
   "execution_count": 6,
   "id": "b418bac3-a56c-4524-82db-8515e486cd15",
   "metadata": {},
   "outputs": [],
   "source": [
    "r = requests.get(url,{'headers':headers})\n"
   ]
  },
  {
   "cell_type": "code",
   "execution_count": 7,
   "id": "26994e81-01c5-455a-b212-73cd82a6640a",
   "metadata": {},
   "outputs": [],
   "source": [
    "soup = bs4.BeautifulSoup(r.text,'html.parser')"
   ]
  },
  {
   "cell_type": "code",
   "execution_count": 70,
   "id": "a4e75fba-952e-498e-8c60-2edf42b8d5d5",
   "metadata": {},
   "outputs": [
    {
     "data": {
      "text/plain": [
       "'Top central bankers fear breaking economy if they raise rates too fast'"
      ]
     },
     "execution_count": 70,
     "metadata": {},
     "output_type": "execute_result"
    }
   ],
   "source": [
    "soup.find_all('div',{'class':'top-news'})[0].find_all('a')[0].text"
   ]
  },
  {
   "cell_type": "code",
   "execution_count": null,
   "id": "216d433a-de90-4ac6-acdc-0cc34e973429",
   "metadata": {},
   "outputs": [],
   "source": []
  }
 ],
 "metadata": {
  "kernelspec": {
   "display_name": "Python 3 (ipykernel)",
   "language": "python",
   "name": "python3"
  },
  "language_info": {
   "codemirror_mode": {
    "name": "ipython",
    "version": 3
   },
   "file_extension": ".py",
   "mimetype": "text/x-python",
   "name": "python",
   "nbconvert_exporter": "python",
   "pygments_lexer": "ipython3",
   "version": "3.9.13"
  }
 },
 "nbformat": 4,
 "nbformat_minor": 5
}
